{
  "cells": [
    {
      "cell_type": "markdown",
      "metadata": {},
      "source": [
        "# Day 3: Disney Parks Guest Spending Behavior"
      ]
    },
    {
      "cell_type": "markdown",
      "metadata": {},
      "source": [
        "You are a data analyst working with the Disney Parks revenue team to understand nuanced guest spending patterns across different park experiences. The team wants to develop a comprehensive view of visitor purchasing behaviors. Your goal is to uncover meaningful insights that can drive personalized marketing strategies."
      ]
    },
    {
      "cell_type": "code",
      "metadata": {},
      "execution_count": null,
      "outputs": [],
      "source": "import pandas as pd\nimport numpy as np\n\nfct_guest_spending_data = [\n  {\n    \"guest_id\": 1,\n    \"visit_date\": \"2024-07-05\",\n    \"amount_spent\": 50,\n    \"park_experience_type\": \"Attraction\"\n  },\n  {\n    \"guest_id\": 2,\n    \"visit_date\": \"2024-07-06\",\n    \"amount_spent\": 30,\n    \"park_experience_type\": \"Dining\"\n  },\n  {\n    \"guest_id\": 3,\n    \"visit_date\": \"2024-07-10\",\n    \"amount_spent\": 20.5,\n    \"park_experience_type\": \"Retail\"\n  },\n  {\n    \"guest_id\": 4,\n    \"visit_date\": \"2024-07-12\",\n    \"amount_spent\": 40,\n    \"park_experience_type\": \"Entertainment\"\n  },\n  {\n    \"guest_id\": 1,\n    \"visit_date\": \"2024-07-15\",\n    \"amount_spent\": 35,\n    \"park_experience_type\": \"Dining\"\n  },\n  {\n    \"guest_id\": 5,\n    \"visit_date\": \"2024-07-20\",\n    \"amount_spent\": 60,\n    \"park_experience_type\": \"Attraction\"\n  },\n  {\n    \"guest_id\": 6,\n    \"visit_date\": \"2024-07-25\",\n    \"amount_spent\": 25,\n    \"park_experience_type\": \"Retail\"\n  },\n  {\n    \"guest_id\": 1,\n    \"visit_date\": \"2024-08-03\",\n    \"amount_spent\": 55,\n    \"park_experience_type\": \"Attraction\"\n  },\n  {\n    \"guest_id\": 1,\n    \"visit_date\": \"2024-08-15\",\n    \"amount_spent\": 45,\n    \"park_experience_type\": \"Dining\"\n  },\n  {\n    \"guest_id\": 2,\n    \"visit_date\": \"2024-08-05\",\n    \"amount_spent\": 22,\n    \"park_experience_type\": \"Retail\"\n  },\n  {\n    \"guest_id\": 2,\n    \"visit_date\": \"2024-08-20\",\n    \"amount_spent\": 38,\n    \"park_experience_type\": \"Entertainment\"\n  },\n  {\n    \"guest_id\": 7,\n    \"visit_date\": \"2024-08-10\",\n    \"amount_spent\": 15,\n    \"park_experience_type\": \"Character Meet\"\n  },\n  {\n    \"guest_id\": 3,\n    \"visit_date\": \"2024-08-25\",\n    \"amount_spent\": 28,\n    \"park_experience_type\": \"Retail\"\n  },\n  {\n    \"guest_id\": 3,\n    \"visit_date\": \"2024-08-27\",\n    \"amount_spent\": 32,\n    \"park_experience_type\": \"Dining\"\n  },\n  {\n    \"guest_id\": 1,\n    \"visit_date\": \"2024-09-02\",\n    \"amount_spent\": 65,\n    \"park_experience_type\": \"Attraction\"\n  },\n  {\n    \"guest_id\": 8,\n    \"visit_date\": \"2024-09-05\",\n    \"amount_spent\": 50,\n    \"park_experience_type\": \"Retail\"\n  },\n  {\n    \"guest_id\": 9,\n    \"visit_date\": \"2024-09-15\",\n    \"amount_spent\": 40,\n    \"park_experience_type\": \"Dining\"\n  },\n  {\n    \"guest_id\": 10,\n    \"visit_date\": \"2024-09-20\",\n    \"amount_spent\": 70,\n    \"park_experience_type\": \"Entertainment\"\n  },\n  {\n    \"guest_id\": 1,\n    \"visit_date\": \"2024-09-25\",\n    \"amount_spent\": 35,\n    \"park_experience_type\": \"Dining\"\n  },\n  {\n    \"guest_id\": 8,\n    \"visit_date\": \"2024-09-28\",\n    \"amount_spent\": 10,\n    \"park_experience_type\": \"Character Meet\"\n  }\n]\nfct_guest_spending = pd.DataFrame(fct_guest_spending_data)\n"
    },
    {
      "cell_type": "markdown",
      "metadata": {},
      "source": [
        "## Question 1\n\nWhat is the average spending per guest per visit for each park experience type during July 2024? Ensure that park experience types with no recorded transactions are shown with an average spending of 0.0. This analysis helps establish baseline spending differences essential for later segmentation."
      ]
    },
    {
      "cell_type": "code",
      "metadata": {},
      "execution_count": null,
      "outputs": [],
      "source": "# Note: pandas and numpy are already imported as pd and np\n# The following tables are loaded as pandas DataFrames with the same names: fct_guest_spending\n# Please print your final result or dataframe\n\n# Ensure 'visit_date' is in correct datetime format\nfct_guest_spending['visit_date'] = pd.to_datetime(fct_guest_spending['visit_date'])\n\n# Filter visit_date for July 2024\njuly_dates = fct_guest_spending[\n  (fct_guest_spending['visit_date'].dt.month == 7) &\n  (fct_guest_spending['visit_date'].dt.year == 2024)\n]\n\n# Get average amount spent per park experience type for July 2024\navg_spend = july_dates.groupby('park_experience_type')['amount_spent'].mean().reset_index()\n\n# Get full list of all park experience types\nall_types = fct_guest_spending[['park_experience_type']].drop_duplicates()\n\n# Merge to ensure all park experience types appear, even with no July transactions\nmerged = all_types.merge(avg_spend, on='park_experience_type', how='left')\n\n# Fill missing averages with 0.0\nmerged['amount_spent'] = merged['amount_spent'].fillna(0.0)\n\n# Print the final result\nfor _, row in merged.iterrows():\n    print(f\"{row['park_experience_type']}: {row['amount_spent']}\")"
    },
    {
      "cell_type": "markdown",
      "metadata": {},
      "source": [
        "## Question 2\n\nFor guests who visited our parks more than once in August 2024, what is the difference in spending between their first and their last visit? This investigation, using sequential analysis, will reveal any shifts in guest spending behavior over multiple visits."
      ]
    },
    {
      "cell_type": "code",
      "metadata": {},
      "execution_count": null,
      "outputs": [],
      "source": "# Ensure 'visit_date' is datetime\nfct_guest_spending['visit_date'] = pd.to_datetime(fct_guest_spending['visit_date'])\n\n# Filter for visits in August 2024\naug_dates = fct_guest_spending[\n    (fct_guest_spending['visit_date'].dt.month == 8) &\n    (fct_guest_spending['visit_date'].dt.year == 2024)\n]\n\n# Count visits per guest\nvisit_counts = aug_dates.groupby('guest_id').size()\n\n# Guests with more than one visit in August\nmultiple_visitors = visit_counts[visit_counts > 1].index\n\n# Filter data for these guests only\nmulti_visitors_data = aug_dates[aug_dates['guest_id'].isin(multiple_visitors)]\n\n# Sort by guest_id and visit_date to ensure sequential order\nmulti_visitors_data = multi_visitors_data.sort_values(['guest_id', 'visit_date'])\n\n# Group by guest_id and get spending on first and last visit\nspending = multi_visitors_data.groupby('guest_id')['amount_spent'].agg(['first', 'last']).reset_index()\n\n# Calculate difference: last visit spending minus first visit spending\nspending['spending_difference'] = spending['last'] - spending['first']\n\nprint(spending)"
    },
    {
      "cell_type": "markdown",
      "metadata": {},
      "source": [
        "## Question 3\n\nIn September 2024, how can guests be categorized into distinct spending segments such as Low, Medium, and High based on their total spending? Use the following thresholds for categorization: \n-Low: Includes values from $0 up to, but not including, $50.\n-Medium: Includes values from $50 up to, but not including, $100.\n-High: Includes values from $100 and above. \nExclude guests who did not make any purchases in the period."
      ]
    },
    {
      "cell_type": "code",
      "metadata": {},
      "execution_count": null,
      "outputs": [],
      "source": "# Filter for sept 2024\nsept_dates = fct_guest_spending[\n  (fct_guest_spending['visit_date'].dt.month == 9) &\n  (fct_guest_spending['visit_date'].dt.year == 2024)\n]\n\n# Total spending per guest\n# Group by guest_id\ngrouped = sept_dates.groupby('guest_id')\n# Total amount_spent\ntotal_spent = grouped['amount_spent'].agg(sum)\ntotal_spent = total_spent.reset_index()\n\n# Categorisation into Low, Medium, High Spending\ntotal_spent['spending_segment'] = pd.cut(\n    total_spent['amount_spent'],\n    bins=[0, 50, 100, float('inf')],\n    labels=['Low', 'Medium', 'High'],\n    right=False  # include lower bound, exclude upper\n)\n\n# Exclude guests with no fct_guest_spending\ntotal_spent = total_spent[total_spent['amount_spent'] > 0]"
    },
    {
      "cell_type": "markdown",
      "metadata": {},
      "source": [
        "Made with ❤️ by [Interview Master](https://www.interviewmaster.ai)"
      ]
    }
  ],
  "metadata": {
    "kernelspec": {
      "name": "python3",
      "language": "python",
      "display_name": "Python 3"
    },
    "language_info": {
      "name": "python",
      "version": "3",
      "mimetype": "text/x-python",
      "file_extension": ".py"
    }
  },
  "nbformat": 4,
  "nbformat_minor": 5
}